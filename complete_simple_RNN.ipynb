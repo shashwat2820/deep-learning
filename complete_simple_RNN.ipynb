{
  "nbformat": 4,
  "nbformat_minor": 0,
  "metadata": {
    "colab": {
      "name": "complete_simple_RNN.ipynb",
      "provenance": [],
      "authorship_tag": "ABX9TyPRDKgVTPWJa/4kb00QCH5T",
      "include_colab_link": true
    },
    "kernelspec": {
      "name": "python3",
      "display_name": "Python 3"
    },
    "language_info": {
      "name": "python"
    }
  },
  "cells": [
    {
      "cell_type": "markdown",
      "metadata": {
        "id": "view-in-github",
        "colab_type": "text"
      },
      "source": [
        "<a href=\"https://colab.research.google.com/github/shashwat2820/deep-learning/blob/main/complete_simple_RNN.ipynb\" target=\"_parent\"><img src=\"https://colab.research.google.com/assets/colab-badge.svg\" alt=\"Open In Colab\"/></a>"
      ]
    },
    {
      "cell_type": "code",
      "metadata": {
        "id": "06EWDtx86G-o"
      },
      "source": [
        "import torch \n",
        "from torch import nn\n",
        "import numpy as np\n",
        "import matplotlib.pyplot as plt \n",
        "%matplotlib inline \n",
        "\n",
        "\n"
      ],
      "execution_count": null,
      "outputs": []
    },
    {
      "cell_type": "code",
      "metadata": {
        "colab": {
          "base_uri": "https://localhost:8080/",
          "height": 320
        },
        "id": "o9Udjoul6e4G",
        "outputId": "6036cba2-c878-40cd-989c-cb77c9484004"
      },
      "source": [
        "plt.figure(figsize=(8,5))\n",
        "\n",
        "# how many time steps/data pts are in one batch of data\n",
        "seq_length = 20 # length of data rnn will see\n",
        "\n",
        "# generate evenly spaced data pts\n",
        "time_steps = np.linspace(0,np.pi,seq_length + 1)\n",
        "data = np.sin(time_steps)# sin has enough variance ,  shape and very predicatable \n",
        "data.resize((seq_length + 1 , 1)) # size becomes (seq_length+1, 1), adds an input_size dimension\n",
        "\n",
        "#creating the input and target sequence of the required size  here both should contain 20 data points and the input size of 1\n",
        "x = data[:-1] # all but the last piece of data\n",
        "y = data[1:]  # all but the first\n",
        "\n",
        "plt.plot(time_steps[1:] , x ,'r.', label = 'input , x')\n",
        "plt.plot(time_steps[1:] , y , 'b.', label = 'output , y')\n",
        "\n",
        "# display the data\n",
        "plt.legend(loc='best')\n",
        "plt.show()"
      ],
      "execution_count": null,
      "outputs": [
        {
          "output_type": "display_data",
          "data": {
            "image/png": "[encoded data removed]",
            "text/plain": [
              "<Figure size 576x360 with 1 Axes>"
            ]
          },
          "metadata": {
            "tags": [],
            "needs_background": "light"
          }
        }
      ]
    },
    {
      "cell_type": "code",
      "metadata": {
        "colab": {
          "base_uri": "https://localhost:8080/",
          "height": 69
        },
        "id": "uWP2fQo09VPe",
        "outputId": "fd713f8a-1321-4e87-c381-3c3cfaf63fe7"
      },
      "source": [
        "#defining the the RNN model\n",
        "class RNN(nn.Module):\n",
        "  def __init__(self,input_size , hidden_dim ,output_size ,  n_layers):\n",
        "    super(RNN,self).__init__()\n",
        "\n",
        "# input_size -- no. of input features \n",
        "    self.hidden_dim = hidden_dim #storing the hidden dimensions for future use \n",
        "\n",
        "    #define the RNN \n",
        "    #batch_first=True means that the first dimension of the input and the output tensors will be the batch size \n",
        "    self.rnn = nn.RNN(input_size ,  hidden_dim , n_layers , batch_first = True )\n",
        "    #the fully connected layer \n",
        "    self.fc = nn.Linear(hidden_dim , output_size) # takes output of the the rnn (dimension values of the final hidden state as the input and output) \n",
        "\n",
        "#x is the input , hidden is teh features of the hidden state \n",
        "  def forward(self,x,hidden): \n",
        "\n",
        "  # x (batch_size, seq_length, input_size)\n",
        "  # hidden (n_layers, batch_size, hidden_dim)\n",
        "  # r_out (batch_size, time_step, hidden_dim)\n",
        "    batch_size = x.size(0)\n",
        "\n",
        "  #the rnn inputs the input and the hidden state of the previous rnn and returns the output and the next and its own hidden_sate as the ouput \n",
        "    r_out , hidden = self.rnn(x,hidden)\n",
        "\n",
        "  # shape output to be (batch_size*seq_length, hidden_dim) = shape of y_tensor inorder to comapre it with the y_tensor in the criterion step\n",
        "    r_out = r_out.view(-1, self.hidden_dim)\n",
        "  \n",
        "  #output of the fully connected_layer \n",
        "    output = self.fc(r_out)\n",
        "\n",
        "    return output , hidden \n",
        "\n",
        "'''Applies a multi-layer Elman RNN with \\tanh or \\text{ReLU} non-linearity to an\n",
        "input sequence.\n",
        "\n",
        "For each element in the input sequence, each layer computes the following\n",
        "function:\n",
        "\n",
        "where h_t is the hidden state at time t, x_t is\n",
        "the input at time t, and h_{(t-1)} is the hidden state of the\n",
        "previous layer at time t-1 or the initial hidden state at time 0.\n",
        "If nonlinearity is 'relu', then \\text{ReLU} is used instead of \\tanh.'''\n"
      ],
      "execution_count": null,
      "outputs": [
        {
          "output_type": "execute_result",
          "data": {
            "application/vnd.google.colaboratory.intrinsic+json": {
              "type": "string"
            },
            "text/plain": [
              "\"Applies a multi-layer Elman RNN with \\tanh or \\text{ReLU} non-linearity to an\\ninput sequence.\\n\\nFor each element in the input sequence, each layer computes the following\\nfunction:\\n\\nwhere h_t is the hidden state at time t, x_t is\\nthe input at time t, and h_{(t-1)} is the hidden state of the\\nprevious layer at time t-1 or the initial hidden state at time 0.\\nIf nonlinearity is 'relu', then \\text{ReLU} is used instead of \\tanh.\""
            ]
          },
          "metadata": {
            "tags": []
          },
          "execution_count": 32
        }
      ]
    },
    {
      "cell_type": "code",
      "metadata": {
        "colab": {
          "base_uri": "https://localhost:8080/"
        },
        "id": "qS34WcfVDJJl",
        "outputId": "79ca82d6-168b-441e-d6bb-e586840b20e1"
      },
      "source": [
        "#checking the dimensions of the rnn \n",
        "\n",
        "test_rnn = RNN(input_size = 1 , output_size = 1 , hidden_dim = 10 , n_layers = 2)\n",
        "\n",
        "#generate evenly spaced test data points \n",
        "\n",
        "time_step  = np.linspace(0 , np.pi ,seq_length) # in the range od (o,pi) take seq_lenght(=20) input samples \n",
        "data = np.sin(time_step) \n",
        "print(data.shape)\n",
        "data.resize((seq_length , 1)) \n",
        "print(data.shape) #-->(20,1)\n",
        "\n",
        "test_input = torch.Tensor(data).unsqueeze(0) # unsqueezing the input column vector ('data' of shape(20,1)) into a 3-d tensor with the batch_size(=num of sequences = here 1) as the first dimension\n",
        "print('Input_size' , test_input.size())\n",
        "\n",
        "test_out, test_h  = test_rnn(test_input , None) #setting the initial hidden state as to be None \n",
        "print('Output Size ' , test_out.size())\n",
        "print('Hidden state Size' , test_h.size())"
      ],
      "execution_count": null,
      "outputs": [
        {
          "output_type": "stream",
          "text": [
            "Input_size torch.Size([1, 20, 1])\n",
            "Output Size  torch.Size([20, 1])\n",
            "Hidden state Size torch.Size([2, 1, 10])\n"
          ],
          "name": "stdout"
        }
      ]
    },
    {
      "cell_type": "code",
      "metadata": {
        "id": "BAUTxaERJcZJ",
        "colab": {
          "base_uri": "https://localhost:8080/"
        },
        "outputId": "9900b11d-f65d-4461-e3fc-2531d4e5d640"
      },
      "source": [
        "#deciding the hyperparameters of the rnn\n",
        "input_size = 1 \n",
        "output_size = 1 \n",
        "hidden_dim = 32 \n",
        "n_layers = 1\n",
        "\n",
        "rnn = RNN(input_size , output_size , hidden_dim , n_layers)\n",
        "print(rnn)   "
      ],
      "execution_count": null,
      "outputs": [
        {
          "output_type": "stream",
          "text": [
            "RNN(\n",
            "  (rnn): RNN(1, 32, batch_first=True)\n",
            "  (fc): Linear(in_features=32, out_features=1, bias=True)\n",
            ")\n"
          ],
          "name": "stdout"
        }
      ]
    },
    {
      "cell_type": "code",
      "metadata": {
        "id": "JX_WjUvXva3x"
      },
      "source": [
        "criterion = nn.MSELoss() \n",
        "optimizer = torch.optim.Adam(rnn.parameters() , lr = 0.01)"
      ],
      "execution_count": null,
      "outputs": []
    },
    {
      "cell_type": "code",
      "metadata": {
        "id": "7XsgDHIwwNnC"
      },
      "source": [
        "#training the rnn\n",
        "\n",
        "# inputs the rnn , the number of steps to train for , the number of iterations after which the graph should be printed\n",
        "def train(rnn , n_steps , print_every):\n",
        "\n",
        "   n_steps = 75 \n",
        "   #initialize the hidden state \n",
        "   hidden = None \n",
        "\n",
        "   for batch_i , step in enumerate(range(n_steps)):\n",
        "\n",
        "     time_steps = np.linspace(step*np.pi , (step+1)*np.pi , seq_length + 1)\n",
        "     data = np.sin(time_steps)\n",
        "     data.resize((seq_length+1 , 1 ))\n",
        "\n",
        "     x = data[:-1]\n",
        "     y = data[1:]\n",
        "     \n",
        "     #convert the data into tensors \n",
        "     x_tensor = torch.Tensor(x).unsqueeze(0)\n",
        "     y_tensor = torch.Tensor(y)\n",
        "\n",
        "     #outputs of the rnn \n",
        "     prediction , hidden = rnn(x_tensor , hidden)\n",
        "\n",
        "  \n",
        "     # make a new variable for hidden and detach the hidden state from its history\n",
        "     # this way, we don't backpropagate through the entire history\n",
        "     hidden = hidden.data\n",
        "\n",
        "     loss = criterion(prediction , y_tensor)\n",
        "\n",
        "     optimizer.zero_grad()\n",
        "\n",
        "     loss.backward()\n",
        "\n",
        "     optimizer.step()\n",
        "\n",
        "     \n",
        "     if batch_i%print_every == 0:\n",
        "       print('Loss' , loss.item())\n",
        "       plt.plot(time_steps[1:] , x , 'r.' , label = 'input , x')\n",
        "       plt.plot(time_steps[1:] , prediction.data.numpy().flatten() , 'b.' , label = 'output , y')\n",
        "       plt.show()\n",
        "\n",
        "   return rnn\n",
        "\n",
        "\n",
        "\n"
      ],
      "execution_count": null,
      "outputs": []
    },
    {
      "cell_type": "code",
      "metadata": {
        "colab": {
          "base_uri": "https://localhost:8080/",
          "height": 1000
        },
        "id": "qUjeywvW0yty",
        "outputId": "ab651369-cdea-4e60-d486-24d563605cbd"
      },
      "source": [
        "n_steps = 75 \n",
        "print_every  = 15 \n",
        "trained_rnn  = train(rnn , n_steps , print_every)"
      ],
      "execution_count": null,
      "outputs": [
        {
          "output_type": "stream",
          "text": [
            "Loss 0.3022996783256531\n"
          ],
          "name": "stdout"
        },
        {
          "output_type": "display_data",
          "data": {
            "image/png": "[encoded data removed]",
            "text/plain": [
              "<Figure size 432x288 with 1 Axes>"
            ]
          },
          "metadata": {
            "tags": [],
            "needs_background": "light"
          }
        },
        {
          "output_type": "stream",
          "text": [
            "Loss 0.030633827671408653\n"
          ],
          "name": "stdout"
        },
        {
          "output_type": "display_data",
          "data": {
            "image/png": "[encoded data removed]",
            "text/plain": [
              "<Figure size 432x288 with 1 Axes>"
            ]
          },
          "metadata": {
            "tags": [],
            "needs_background": "light"
          }
        },
        {
          "output_type": "stream",
          "text": [
            "Loss 0.011322486214339733\n"
          ],
          "name": "stdout"
        },
        {
          "output_type": "display_data",
          "data": {
            "image/png": "[encoded data removed]",
            "text/plain": [
              "<Figure size 432x288 with 1 Axes>"
            ]
          },
          "metadata": {
            "tags": [],
            "needs_background": "light"
          }
        },
        {
          "output_type": "stream",
          "text": [
            "Loss 0.001207751571200788\n"
          ],
          "name": "stdout"
        },
        {
          "output_type": "display_data",
          "data": {
            "image/png": "[encoded data removed]",
            "text/plain": [
              "<Figure size 432x288 with 1 Axes>"
            ]
          },
          "metadata": {
            "tags": [],
            "needs_background": "light"
          }
        },
        {
          "output_type": "stream",
          "text": [
            "Loss 0.000456951092928648\n"
          ],
          "name": "stdout"
        },
        {
          "output_type": "display_data",
          "data": {
            "image/png": "[encoded data removed]",
            "text/plain": [
              "<Figure size 432x288 with 1 Axes>"
            ]
          },
          "metadata": {
            "tags": [],
            "needs_background": "light"
          }
        }
      ]
    }
  ]
}